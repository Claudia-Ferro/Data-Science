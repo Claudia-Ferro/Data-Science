{
  "nbformat": 4,
  "nbformat_minor": 0,
  "metadata": {
    "colab": {
      "provenance": []
    },
    "kernelspec": {
      "name": "python3",
      "display_name": "Python 3"
    },
    "language_info": {
      "name": "python"
    }
  },
  "cells": [
    {
      "cell_type": "code",
      "execution_count": 1,
      "metadata": {
        "id": "B0-07ybue5HF"
      },
      "outputs": [],
      "source": [
        "#importar bibliotecas\n",
        "import matplotlib.pyplot as plt\n",
        "import numpy as np\n",
        "import pandas as pd\n",
        "import seaborn as sns\n",
        "import keras\n",
        "from sklearn.model_selection import train_test_split\n",
        "from sklearn.preprocessing import StandardScaler\n",
        "from sklearn.neural_network import MLPClassifier\n",
        "from sklearn.metrics import accuracy_score\n",
        "from keras.utils.vis_utils import plot_model\n",
        "from scipy.optimize import least_squares\n",
        "from scipy.optimize import leastsq"
      ]
    },
    {
      "cell_type": "code",
      "source": [
        "data = {\n",
        "  \"1-B\": [1.96, 3.14, 13.74, 0.40, 12.22],\n",
        "  \"1-M\": [4.23, 24.83, 52.99, 11.78, 87.73],\n",
        "  \"1-A\": [10.53, 20.99, 32.50, 0.81, 21.85],\n",
        "  \"10-B\": [2.60, 3.00, 4.01, 3.76, 8.44],\n",
        "  \"10-M\": [20.80, 11.40, 14.83, 14.96, 7.36],\n",
        "  \"10-A\": [60.60, 46.19, 28.65, 0.00, 19.05],\n",
        "  \"11-B\": [2.41, 3.85, 1.47, 2.77, 1.38],\n",
        "  \"11-M\": [4.01, 3.13, 2.91, 3.44, 3.98],\n",
        "  \"11-A\": [34.11, 12.84, 8.91, 9.61, 33.75],\n",
        "  \"PCI\": [6.70, 5.70, 6.44, 26.75, 2.12]\n",
        "}\n",
        "#load data into a DataFrame object:\n",
        "df = pd.DataFrame(data)\n",
        "\n",
        "print(df)"
      ],
      "metadata": {
        "colab": {
          "base_uri": "https://localhost:8080/"
        },
        "id": "ZB15kzWXfIxs",
        "outputId": "14a217da-253c-4727-f67c-1b7c2493875b"
      },
      "execution_count": 2,
      "outputs": [
        {
          "output_type": "stream",
          "name": "stdout",
          "text": [
            "     1-B    1-M    1-A  10-B   10-M   10-A  11-B  11-M   11-A    PCI\n",
            "0   1.96   4.23  10.53  2.60  20.80  60.60  2.41  4.01  34.11   6.70\n",
            "1   3.14  24.83  20.99  3.00  11.40  46.19  3.85  3.13  12.84   5.70\n",
            "2  13.74  52.99  32.50  4.01  14.83  28.65  1.47  2.91   8.91   6.44\n",
            "3   0.40  11.78   0.81  3.76  14.96   0.00  2.77  3.44   9.61  26.75\n",
            "4  12.22  87.73  21.85  8.44   7.36  19.05  1.38  3.98  33.75   2.12\n"
          ]
        }
      ]
    },
    {
      "cell_type": "code",
      "source": [
        "#normalização dos dados entre 0 e 1\n",
        "df_min_max_scaled = df.copy()\n",
        "for column in df_min_max_scaled.columns:\n",
        "    df_min_max_scaled[column] = (df_min_max_scaled[column] - df_min_max_scaled[column].min()) / (df_min_max_scaled[column].max() - df_min_max_scaled[column].min())\n",
        "print(df_min_max_scaled)"
      ],
      "metadata": {
        "colab": {
          "base_uri": "https://localhost:8080/"
        },
        "id": "5fXq6E5QfOct",
        "outputId": "5f7b1e7a-402e-4e96-91d3-9f30b8135eb3"
      },
      "execution_count": 49,
      "outputs": [
        {
          "output_type": "stream",
          "name": "stdout",
          "text": [
            "        1-B       1-M       1-A      10-B      10-M      10-A      11-B  \\\n",
            "0  0.116942  0.000000  0.306721  0.000000  1.000000  1.000000  0.417004   \n",
            "1  0.205397  0.246707  0.636794  0.068493  0.300595  0.762211  1.000000   \n",
            "2  1.000000  0.583952  1.000000  0.241438  0.555804  0.472772  0.036437   \n",
            "3  0.000000  0.090419  0.000000  0.198630  0.565476  0.000000  0.562753   \n",
            "4  0.886057  1.000000  0.663932  1.000000  0.000000  0.314356  0.000000   \n",
            "\n",
            "       11-M      11-A       PCI  \n",
            "0  1.000000  1.000000  0.185952  \n",
            "1  0.200000  0.155952  0.145351  \n",
            "2  0.000000  0.000000  0.175396  \n",
            "3  0.481818  0.027778  1.000000  \n",
            "4  0.972727  0.985714  0.000000  \n"
          ]
        }
      ]
    },
    {
      "cell_type": "code",
      "source": [
        "# Defina uma função de perda personalizada\n",
        "def custom_loss(y_true, y_pred): return np.mean(np.square(y_true - y_pred))"
      ],
      "metadata": {
        "id": "y7CD_ILafUkU"
      },
      "execution_count": 4,
      "outputs": []
    },
    {
      "cell_type": "code",
      "source": [
        "# Separar os dados entre feature matrix e target vector\n",
        "X = df.drop('PCI', axis=1)\n",
        "y = df['PCI']"
      ],
      "metadata": {
        "id": "NoQfTYcnfbC0"
      },
      "execution_count": 6,
      "outputs": []
    },
    {
      "cell_type": "code",
      "source": [
        "# 3.1 Dividir o dataset entre treino e teste\n",
        "X_train_completo, X_test, y_train_completo, y_test = train_test_split(X, y, train_size=0.7)"
      ],
      "metadata": {
        "id": "m8A8Kcj4fg2N"
      },
      "execution_count": 7,
      "outputs": []
    },
    {
      "cell_type": "code",
      "source": [
        "# 3.2 Dividir os dados de treino entre treino e validação\n",
        "X_train, X_valid, y_train, y_valid = train_test_split(X_train_completo, y_train_completo, test_size=0.5)"
      ],
      "metadata": {
        "id": "4p9Lw3uafkIB"
      },
      "execution_count": 8,
      "outputs": []
    },
    {
      "cell_type": "code",
      "source": [
        "# 3.3 Padronizar os dados (MUITO importante para redes neurais)\n",
        "sc = StandardScaler().fit(X_train)\n",
        "X_train = sc.transform(X_train)\n",
        "X_valid = sc.transform(X_valid)\n",
        "X_test = sc.transform(X_test)"
      ],
      "metadata": {
        "id": "SP6rnrQCfned"
      },
      "execution_count": 9,
      "outputs": []
    },
    {
      "cell_type": "code",
      "source": [
        "# Defina a arquitetura do modelo\n",
        "model = keras.models.Sequential()\n",
        "model.add(keras.layers.Dense(21, input_shape=(X_train.shape[1:]), activation='sigmoid'))\n",
        "model.add(keras.layers.Dense(21, activation='sigmoid'))\n",
        "model.add(keras.layers.Dense(1))"
      ],
      "metadata": {
        "id": "yXN0c1ErfqPM"
      },
      "execution_count": 10,
      "outputs": []
    },
    {
      "cell_type": "code",
      "source": [
        "# Compile o modelo com a função de perda personalizada\n",
        "model.compile(optimizer='sgd', loss=custom_loss)"
      ],
      "metadata": {
        "id": "RLB2Pf4hfvmN"
      },
      "execution_count": 11,
      "outputs": []
    },
    {
      "cell_type": "code",
      "source": [
        "# Inicialize os pesos do modelo\n",
        "initial_params = model.get_weights()"
      ],
      "metadata": {
        "id": "vx7Tduqwf-6W"
      },
      "execution_count": 12,
      "outputs": []
    },
    {
      "cell_type": "code",
      "source": [
        "def model_function(params, x):\n",
        "  optimized_params, _ = leastsq(func=model_function, x0=initial_params, args=(y,))"
      ],
      "metadata": {
        "id": "hSfc6n5UgBld"
      },
      "execution_count": 32,
      "outputs": []
    },
    {
      "cell_type": "code",
      "source": [
        "def custom_fit(X, y):\n",
        "  initial_params = custom_fit(X_train, y_train, epochs=1000, validation_data=(X_valid, y_valid))"
      ],
      "metadata": {
        "id": "eZYycZOcgEZ1"
      },
      "execution_count": 18,
      "outputs": []
    },
    {
      "cell_type": "code",
      "source": [
        "initial_params = model.get_weights()"
      ],
      "metadata": {
        "id": "1O2JAh8ZgHmu"
      },
      "execution_count": 19,
      "outputs": []
    },
    {
      "cell_type": "code",
      "source": [
        "# Defina os pesos otimizados no modelo\n",
        "model.set_weights(initial_params)\n"
      ],
      "metadata": {
        "id": "NRxYDJSxh85e"
      },
      "execution_count": 27,
      "outputs": []
    },
    {
      "cell_type": "code",
      "source": [
        "def error_function(params, x, y):\n",
        "    return y - model_function(params, x)\n"
      ],
      "metadata": {
        "id": "8wp6aaoBjsJk"
      },
      "execution_count": 40,
      "outputs": []
    },
    {
      "cell_type": "code",
      "source": [
        " def model_function(params, x):\n",
        "  optimized_params, _ = leastsq(error_function, initial_params, args=(X_train, y_train))\n"
      ],
      "metadata": {
        "id": "P3HsUsMxkAyt"
      },
      "execution_count": 41,
      "outputs": []
    },
    {
      "cell_type": "code",
      "source": [
        "print(X_train)"
      ],
      "metadata": {
        "colab": {
          "base_uri": "https://localhost:8080/"
        },
        "id": "u7df92lVkxvr",
        "outputId": "9d12823d-e64a-454c-a6b1-4955daa3b106"
      },
      "execution_count": 43,
      "outputs": [
        {
          "output_type": "stream",
          "name": "stdout",
          "text": [
            "[[0. 0. 0. 0. 0. 0. 0. 0. 0.]]\n"
          ]
        }
      ]
    },
    {
      "cell_type": "code",
      "source": [
        "print(y_train)"
      ],
      "metadata": {
        "colab": {
          "base_uri": "https://localhost:8080/"
        },
        "id": "CdXD9K7Dk3kM",
        "outputId": "60d271e6-bf47-437d-8f61-51eca9b7195d"
      },
      "execution_count": 44,
      "outputs": [
        {
          "output_type": "stream",
          "name": "stdout",
          "text": [
            "4    2.12\n",
            "Name: PCI, dtype: float64\n"
          ]
        }
      ]
    },
    {
      "cell_type": "code",
      "source": [
        "weights = model.layers[0].get_weights()[0]"
      ],
      "metadata": {
        "id": "ULMhnQ__lD79"
      },
      "execution_count": 45,
      "outputs": []
    },
    {
      "cell_type": "code",
      "source": [
        "print(weights)"
      ],
      "metadata": {
        "colab": {
          "base_uri": "https://localhost:8080/"
        },
        "id": "GCQhW9GdlFFU",
        "outputId": "2ba79f7e-533e-4b72-e185-26ec41ad64f1"
      },
      "execution_count": 46,
      "outputs": [
        {
          "output_type": "stream",
          "name": "stdout",
          "text": [
            "[[-0.12026519  0.3752768   0.12017274 -0.37644604  0.3400302  -0.1617204\n",
            "   0.07381272  0.3927381  -0.26380193 -0.00522128  0.06744885  0.25341898\n",
            "   0.40240365 -0.33688372 -0.36425093 -0.32443634  0.2291717   0.29639518\n",
            "   0.10450912 -0.41779998 -0.36977726]\n",
            " [-0.10608527  0.21788692 -0.13665703 -0.31826964 -0.15738752 -0.303829\n",
            "  -0.1397661  -0.38347065 -0.10605901  0.40017128  0.1372329   0.05570966\n",
            "   0.4123215   0.2521118   0.39623588 -0.08553252 -0.24736358  0.13163972\n",
            "  -0.10792026  0.03557777 -0.30116597]\n",
            " [ 0.02434334  0.35572195  0.3487091   0.34838647 -0.29528683 -0.10003084\n",
            "   0.16250491 -0.23134941 -0.24842983 -0.29880115 -0.03003854 -0.3678414\n",
            "   0.03308886  0.15784341 -0.34773752  0.33689046  0.3190412   0.032747\n",
            "  -0.19789954 -0.32668698  0.24057227]\n",
            " [ 0.11721593 -0.3470335   0.39141107  0.2221713  -0.00994003  0.12651283\n",
            "   0.2411117   0.41643047 -0.33189887 -0.05847135 -0.09719133  0.37232184\n",
            "   0.14184183  0.18696779 -0.0595783  -0.10190177 -0.32222146 -0.2609235\n",
            "  -0.40034518  0.3667729   0.14496857]\n",
            " [ 0.24033111  0.24423921 -0.23996238 -0.04939207  0.43859124  0.20368081\n",
            "  -0.3900436  -0.06156215 -0.26263696  0.24512279 -0.4099969   0.41237473\n",
            "   0.2685721   0.3451212  -0.00795403  0.29291624 -0.31597763 -0.14760423\n",
            "   0.14945638 -0.3879462  -0.04395127]\n",
            " [-0.19015041  0.21831453  0.08156312 -0.23528543  0.0147475  -0.00321877\n",
            "  -0.18697163 -0.28371578  0.23416042 -0.25903285 -0.22309682  0.12496793\n",
            "   0.11400521 -0.13213852  0.2154473   0.0172956   0.44339013 -0.34936857\n",
            "  -0.07582888 -0.36331967 -0.09271899]\n",
            " [-0.03421256 -0.00578383 -0.24182415 -0.09087929  0.23586845 -0.05083141\n",
            "   0.2955228   0.06902075 -0.07496041  0.00158176 -0.39250278 -0.3676177\n",
            "   0.29198807  0.15595824 -0.32473776  0.29503506 -0.20215543  0.17299312\n",
            "   0.3370762  -0.3061566  -0.15311894]\n",
            " [-0.02541864 -0.38068384 -0.20655133 -0.04627866  0.23406589 -0.26885974\n",
            "  -0.39278212 -0.10154137  0.22113395 -0.18030167 -0.42356962  0.3894968\n",
            "  -0.23151009 -0.16880503  0.44569653 -0.03134212  0.3804857  -0.38720527\n",
            "  -0.38333791  0.31903112  0.08314234]\n",
            " [ 0.20961839 -0.27746984 -0.38878512  0.01224864 -0.3708      0.39594287\n",
            "   0.02786332 -0.26074374  0.3126995  -0.01014474 -0.26007307  0.10504419\n",
            "   0.06699997 -0.21676175  0.2764328  -0.05744988  0.08474296  0.05535847\n",
            "   0.22264344  0.36159438 -0.22027853]]\n"
          ]
        }
      ]
    },
    {
      "cell_type": "code",
      "source": [
        "dfp=pd.DataFrame(weights)\n",
        "dfp"
      ],
      "metadata": {
        "colab": {
          "base_uri": "https://localhost:8080/",
          "height": 425
        },
        "id": "1TTmnrEvlNlk",
        "outputId": "39c92481-c507-4ac7-ce69-aac014cf12bd"
      },
      "execution_count": 47,
      "outputs": [
        {
          "output_type": "execute_result",
          "data": {
            "text/plain": [
              "         0         1         2         3         4         5         6   \\\n",
              "0 -0.120265  0.375277  0.120173 -0.376446  0.340030 -0.161720  0.073813   \n",
              "1 -0.106085  0.217887 -0.136657 -0.318270 -0.157388 -0.303829 -0.139766   \n",
              "2  0.024343  0.355722  0.348709  0.348386 -0.295287 -0.100031  0.162505   \n",
              "3  0.117216 -0.347034  0.391411  0.222171 -0.009940  0.126513  0.241112   \n",
              "4  0.240331  0.244239 -0.239962 -0.049392  0.438591  0.203681 -0.390044   \n",
              "5 -0.190150  0.218315  0.081563 -0.235285  0.014748 -0.003219 -0.186972   \n",
              "6 -0.034213 -0.005784 -0.241824 -0.090879  0.235868 -0.050831  0.295523   \n",
              "7 -0.025419 -0.380684 -0.206551 -0.046279  0.234066 -0.268860 -0.392782   \n",
              "8  0.209618 -0.277470 -0.388785  0.012249 -0.370800  0.395943  0.027863   \n",
              "\n",
              "         7         8         9   ...        11        12        13        14  \\\n",
              "0  0.392738 -0.263802 -0.005221  ...  0.253419  0.402404 -0.336884 -0.364251   \n",
              "1 -0.383471 -0.106059  0.400171  ...  0.055710  0.412322  0.252112  0.396236   \n",
              "2 -0.231349 -0.248430 -0.298801  ... -0.367841  0.033089  0.157843 -0.347738   \n",
              "3  0.416430 -0.331899 -0.058471  ...  0.372322  0.141842  0.186968 -0.059578   \n",
              "4 -0.061562 -0.262637  0.245123  ...  0.412375  0.268572  0.345121 -0.007954   \n",
              "5 -0.283716  0.234160 -0.259033  ...  0.124968  0.114005 -0.132139  0.215447   \n",
              "6  0.069021 -0.074960  0.001582  ... -0.367618  0.291988  0.155958 -0.324738   \n",
              "7 -0.101541  0.221134 -0.180302  ...  0.389497 -0.231510 -0.168805  0.445697   \n",
              "8 -0.260744  0.312699 -0.010145  ...  0.105044  0.067000 -0.216762  0.276433   \n",
              "\n",
              "         15        16        17        18        19        20  \n",
              "0 -0.324436  0.229172  0.296395  0.104509 -0.417800 -0.369777  \n",
              "1 -0.085533 -0.247364  0.131640 -0.107920  0.035578 -0.301166  \n",
              "2  0.336890  0.319041  0.032747 -0.197900 -0.326687  0.240572  \n",
              "3 -0.101902 -0.322221 -0.260924 -0.400345  0.366773  0.144969  \n",
              "4  0.292916 -0.315978 -0.147604  0.149456 -0.387946 -0.043951  \n",
              "5  0.017296  0.443390 -0.349369 -0.075829 -0.363320 -0.092719  \n",
              "6  0.295035 -0.202155  0.172993  0.337076 -0.306157 -0.153119  \n",
              "7 -0.031342  0.380486 -0.387205 -0.383338  0.319031  0.083142  \n",
              "8 -0.057450  0.084743  0.055358  0.222643  0.361594 -0.220279  \n",
              "\n",
              "[9 rows x 21 columns]"
            ],
            "text/html": [
              "\n",
              "\n",
              "  <div id=\"df-2ac3f264-e117-4c1e-b8ad-817a0ecb1d9e\">\n",
              "    <div class=\"colab-df-container\">\n",
              "      <div>\n",
              "<style scoped>\n",
              "    .dataframe tbody tr th:only-of-type {\n",
              "        vertical-align: middle;\n",
              "    }\n",
              "\n",
              "    .dataframe tbody tr th {\n",
              "        vertical-align: top;\n",
              "    }\n",
              "\n",
              "    .dataframe thead th {\n",
              "        text-align: right;\n",
              "    }\n",
              "</style>\n",
              "<table border=\"1\" class=\"dataframe\">\n",
              "  <thead>\n",
              "    <tr style=\"text-align: right;\">\n",
              "      <th></th>\n",
              "      <th>0</th>\n",
              "      <th>1</th>\n",
              "      <th>2</th>\n",
              "      <th>3</th>\n",
              "      <th>4</th>\n",
              "      <th>5</th>\n",
              "      <th>6</th>\n",
              "      <th>7</th>\n",
              "      <th>8</th>\n",
              "      <th>9</th>\n",
              "      <th>...</th>\n",
              "      <th>11</th>\n",
              "      <th>12</th>\n",
              "      <th>13</th>\n",
              "      <th>14</th>\n",
              "      <th>15</th>\n",
              "      <th>16</th>\n",
              "      <th>17</th>\n",
              "      <th>18</th>\n",
              "      <th>19</th>\n",
              "      <th>20</th>\n",
              "    </tr>\n",
              "  </thead>\n",
              "  <tbody>\n",
              "    <tr>\n",
              "      <th>0</th>\n",
              "      <td>-0.120265</td>\n",
              "      <td>0.375277</td>\n",
              "      <td>0.120173</td>\n",
              "      <td>-0.376446</td>\n",
              "      <td>0.340030</td>\n",
              "      <td>-0.161720</td>\n",
              "      <td>0.073813</td>\n",
              "      <td>0.392738</td>\n",
              "      <td>-0.263802</td>\n",
              "      <td>-0.005221</td>\n",
              "      <td>...</td>\n",
              "      <td>0.253419</td>\n",
              "      <td>0.402404</td>\n",
              "      <td>-0.336884</td>\n",
              "      <td>-0.364251</td>\n",
              "      <td>-0.324436</td>\n",
              "      <td>0.229172</td>\n",
              "      <td>0.296395</td>\n",
              "      <td>0.104509</td>\n",
              "      <td>-0.417800</td>\n",
              "      <td>-0.369777</td>\n",
              "    </tr>\n",
              "    <tr>\n",
              "      <th>1</th>\n",
              "      <td>-0.106085</td>\n",
              "      <td>0.217887</td>\n",
              "      <td>-0.136657</td>\n",
              "      <td>-0.318270</td>\n",
              "      <td>-0.157388</td>\n",
              "      <td>-0.303829</td>\n",
              "      <td>-0.139766</td>\n",
              "      <td>-0.383471</td>\n",
              "      <td>-0.106059</td>\n",
              "      <td>0.400171</td>\n",
              "      <td>...</td>\n",
              "      <td>0.055710</td>\n",
              "      <td>0.412322</td>\n",
              "      <td>0.252112</td>\n",
              "      <td>0.396236</td>\n",
              "      <td>-0.085533</td>\n",
              "      <td>-0.247364</td>\n",
              "      <td>0.131640</td>\n",
              "      <td>-0.107920</td>\n",
              "      <td>0.035578</td>\n",
              "      <td>-0.301166</td>\n",
              "    </tr>\n",
              "    <tr>\n",
              "      <th>2</th>\n",
              "      <td>0.024343</td>\n",
              "      <td>0.355722</td>\n",
              "      <td>0.348709</td>\n",
              "      <td>0.348386</td>\n",
              "      <td>-0.295287</td>\n",
              "      <td>-0.100031</td>\n",
              "      <td>0.162505</td>\n",
              "      <td>-0.231349</td>\n",
              "      <td>-0.248430</td>\n",
              "      <td>-0.298801</td>\n",
              "      <td>...</td>\n",
              "      <td>-0.367841</td>\n",
              "      <td>0.033089</td>\n",
              "      <td>0.157843</td>\n",
              "      <td>-0.347738</td>\n",
              "      <td>0.336890</td>\n",
              "      <td>0.319041</td>\n",
              "      <td>0.032747</td>\n",
              "      <td>-0.197900</td>\n",
              "      <td>-0.326687</td>\n",
              "      <td>0.240572</td>\n",
              "    </tr>\n",
              "    <tr>\n",
              "      <th>3</th>\n",
              "      <td>0.117216</td>\n",
              "      <td>-0.347034</td>\n",
              "      <td>0.391411</td>\n",
              "      <td>0.222171</td>\n",
              "      <td>-0.009940</td>\n",
              "      <td>0.126513</td>\n",
              "      <td>0.241112</td>\n",
              "      <td>0.416430</td>\n",
              "      <td>-0.331899</td>\n",
              "      <td>-0.058471</td>\n",
              "      <td>...</td>\n",
              "      <td>0.372322</td>\n",
              "      <td>0.141842</td>\n",
              "      <td>0.186968</td>\n",
              "      <td>-0.059578</td>\n",
              "      <td>-0.101902</td>\n",
              "      <td>-0.322221</td>\n",
              "      <td>-0.260924</td>\n",
              "      <td>-0.400345</td>\n",
              "      <td>0.366773</td>\n",
              "      <td>0.144969</td>\n",
              "    </tr>\n",
              "    <tr>\n",
              "      <th>4</th>\n",
              "      <td>0.240331</td>\n",
              "      <td>0.244239</td>\n",
              "      <td>-0.239962</td>\n",
              "      <td>-0.049392</td>\n",
              "      <td>0.438591</td>\n",
              "      <td>0.203681</td>\n",
              "      <td>-0.390044</td>\n",
              "      <td>-0.061562</td>\n",
              "      <td>-0.262637</td>\n",
              "      <td>0.245123</td>\n",
              "      <td>...</td>\n",
              "      <td>0.412375</td>\n",
              "      <td>0.268572</td>\n",
              "      <td>0.345121</td>\n",
              "      <td>-0.007954</td>\n",
              "      <td>0.292916</td>\n",
              "      <td>-0.315978</td>\n",
              "      <td>-0.147604</td>\n",
              "      <td>0.149456</td>\n",
              "      <td>-0.387946</td>\n",
              "      <td>-0.043951</td>\n",
              "    </tr>\n",
              "    <tr>\n",
              "      <th>5</th>\n",
              "      <td>-0.190150</td>\n",
              "      <td>0.218315</td>\n",
              "      <td>0.081563</td>\n",
              "      <td>-0.235285</td>\n",
              "      <td>0.014748</td>\n",
              "      <td>-0.003219</td>\n",
              "      <td>-0.186972</td>\n",
              "      <td>-0.283716</td>\n",
              "      <td>0.234160</td>\n",
              "      <td>-0.259033</td>\n",
              "      <td>...</td>\n",
              "      <td>0.124968</td>\n",
              "      <td>0.114005</td>\n",
              "      <td>-0.132139</td>\n",
              "      <td>0.215447</td>\n",
              "      <td>0.017296</td>\n",
              "      <td>0.443390</td>\n",
              "      <td>-0.349369</td>\n",
              "      <td>-0.075829</td>\n",
              "      <td>-0.363320</td>\n",
              "      <td>-0.092719</td>\n",
              "    </tr>\n",
              "    <tr>\n",
              "      <th>6</th>\n",
              "      <td>-0.034213</td>\n",
              "      <td>-0.005784</td>\n",
              "      <td>-0.241824</td>\n",
              "      <td>-0.090879</td>\n",
              "      <td>0.235868</td>\n",
              "      <td>-0.050831</td>\n",
              "      <td>0.295523</td>\n",
              "      <td>0.069021</td>\n",
              "      <td>-0.074960</td>\n",
              "      <td>0.001582</td>\n",
              "      <td>...</td>\n",
              "      <td>-0.367618</td>\n",
              "      <td>0.291988</td>\n",
              "      <td>0.155958</td>\n",
              "      <td>-0.324738</td>\n",
              "      <td>0.295035</td>\n",
              "      <td>-0.202155</td>\n",
              "      <td>0.172993</td>\n",
              "      <td>0.337076</td>\n",
              "      <td>-0.306157</td>\n",
              "      <td>-0.153119</td>\n",
              "    </tr>\n",
              "    <tr>\n",
              "      <th>7</th>\n",
              "      <td>-0.025419</td>\n",
              "      <td>-0.380684</td>\n",
              "      <td>-0.206551</td>\n",
              "      <td>-0.046279</td>\n",
              "      <td>0.234066</td>\n",
              "      <td>-0.268860</td>\n",
              "      <td>-0.392782</td>\n",
              "      <td>-0.101541</td>\n",
              "      <td>0.221134</td>\n",
              "      <td>-0.180302</td>\n",
              "      <td>...</td>\n",
              "      <td>0.389497</td>\n",
              "      <td>-0.231510</td>\n",
              "      <td>-0.168805</td>\n",
              "      <td>0.445697</td>\n",
              "      <td>-0.031342</td>\n",
              "      <td>0.380486</td>\n",
              "      <td>-0.387205</td>\n",
              "      <td>-0.383338</td>\n",
              "      <td>0.319031</td>\n",
              "      <td>0.083142</td>\n",
              "    </tr>\n",
              "    <tr>\n",
              "      <th>8</th>\n",
              "      <td>0.209618</td>\n",
              "      <td>-0.277470</td>\n",
              "      <td>-0.388785</td>\n",
              "      <td>0.012249</td>\n",
              "      <td>-0.370800</td>\n",
              "      <td>0.395943</td>\n",
              "      <td>0.027863</td>\n",
              "      <td>-0.260744</td>\n",
              "      <td>0.312699</td>\n",
              "      <td>-0.010145</td>\n",
              "      <td>...</td>\n",
              "      <td>0.105044</td>\n",
              "      <td>0.067000</td>\n",
              "      <td>-0.216762</td>\n",
              "      <td>0.276433</td>\n",
              "      <td>-0.057450</td>\n",
              "      <td>0.084743</td>\n",
              "      <td>0.055358</td>\n",
              "      <td>0.222643</td>\n",
              "      <td>0.361594</td>\n",
              "      <td>-0.220279</td>\n",
              "    </tr>\n",
              "  </tbody>\n",
              "</table>\n",
              "<p>9 rows × 21 columns</p>\n",
              "</div>\n",
              "      <button class=\"colab-df-convert\" onclick=\"convertToInteractive('df-2ac3f264-e117-4c1e-b8ad-817a0ecb1d9e')\"\n",
              "              title=\"Convert this dataframe to an interactive table.\"\n",
              "              style=\"display:none;\">\n",
              "\n",
              "  <svg xmlns=\"http://www.w3.org/2000/svg\" height=\"24px\"viewBox=\"0 0 24 24\"\n",
              "       width=\"24px\">\n",
              "    <path d=\"M0 0h24v24H0V0z\" fill=\"none\"/>\n",
              "    <path d=\"M18.56 5.44l.94 2.06.94-2.06 2.06-.94-2.06-.94-.94-2.06-.94 2.06-2.06.94zm-11 1L8.5 8.5l.94-2.06 2.06-.94-2.06-.94L8.5 2.5l-.94 2.06-2.06.94zm10 10l.94 2.06.94-2.06 2.06-.94-2.06-.94-.94-2.06-.94 2.06-2.06.94z\"/><path d=\"M17.41 7.96l-1.37-1.37c-.4-.4-.92-.59-1.43-.59-.52 0-1.04.2-1.43.59L10.3 9.45l-7.72 7.72c-.78.78-.78 2.05 0 2.83L4 21.41c.39.39.9.59 1.41.59.51 0 1.02-.2 1.41-.59l7.78-7.78 2.81-2.81c.8-.78.8-2.07 0-2.86zM5.41 20L4 18.59l7.72-7.72 1.47 1.35L5.41 20z\"/>\n",
              "  </svg>\n",
              "      </button>\n",
              "\n",
              "\n",
              "\n",
              "    <div id=\"df-8c3c268b-2d51-44ed-a5e2-a8dfe108e482\">\n",
              "      <button class=\"colab-df-quickchart\" onclick=\"quickchart('df-8c3c268b-2d51-44ed-a5e2-a8dfe108e482')\"\n",
              "              title=\"Suggest charts.\"\n",
              "              style=\"display:none;\">\n",
              "\n",
              "<svg xmlns=\"http://www.w3.org/2000/svg\" height=\"24px\"viewBox=\"0 0 24 24\"\n",
              "     width=\"24px\">\n",
              "    <g>\n",
              "        <path d=\"M19 3H5c-1.1 0-2 .9-2 2v14c0 1.1.9 2 2 2h14c1.1 0 2-.9 2-2V5c0-1.1-.9-2-2-2zM9 17H7v-7h2v7zm4 0h-2V7h2v10zm4 0h-2v-4h2v4z\"/>\n",
              "    </g>\n",
              "</svg>\n",
              "      </button>\n",
              "    </div>\n",
              "\n",
              "<style>\n",
              "  .colab-df-quickchart {\n",
              "    background-color: #E8F0FE;\n",
              "    border: none;\n",
              "    border-radius: 50%;\n",
              "    cursor: pointer;\n",
              "    display: none;\n",
              "    fill: #1967D2;\n",
              "    height: 32px;\n",
              "    padding: 0 0 0 0;\n",
              "    width: 32px;\n",
              "  }\n",
              "\n",
              "  .colab-df-quickchart:hover {\n",
              "    background-color: #E2EBFA;\n",
              "    box-shadow: 0px 1px 2px rgba(60, 64, 67, 0.3), 0px 1px 3px 1px rgba(60, 64, 67, 0.15);\n",
              "    fill: #174EA6;\n",
              "  }\n",
              "\n",
              "  [theme=dark] .colab-df-quickchart {\n",
              "    background-color: #3B4455;\n",
              "    fill: #D2E3FC;\n",
              "  }\n",
              "\n",
              "  [theme=dark] .colab-df-quickchart:hover {\n",
              "    background-color: #434B5C;\n",
              "    box-shadow: 0px 1px 3px 1px rgba(0, 0, 0, 0.15);\n",
              "    filter: drop-shadow(0px 1px 2px rgba(0, 0, 0, 0.3));\n",
              "    fill: #FFFFFF;\n",
              "  }\n",
              "</style>\n",
              "\n",
              "    <script>\n",
              "      async function quickchart(key) {\n",
              "        const containerElement = document.querySelector('#' + key);\n",
              "        const charts = await google.colab.kernel.invokeFunction(\n",
              "            'suggestCharts', [key], {});\n",
              "      }\n",
              "    </script>\n",
              "\n",
              "      <script>\n",
              "\n",
              "function displayQuickchartButton(domScope) {\n",
              "  let quickchartButtonEl =\n",
              "    domScope.querySelector('#df-8c3c268b-2d51-44ed-a5e2-a8dfe108e482 button.colab-df-quickchart');\n",
              "  quickchartButtonEl.style.display =\n",
              "    google.colab.kernel.accessAllowed ? 'block' : 'none';\n",
              "}\n",
              "\n",
              "        displayQuickchartButton(document);\n",
              "      </script>\n",
              "      <style>\n",
              "    .colab-df-container {\n",
              "      display:flex;\n",
              "      flex-wrap:wrap;\n",
              "      gap: 12px;\n",
              "    }\n",
              "\n",
              "    .colab-df-convert {\n",
              "      background-color: #E8F0FE;\n",
              "      border: none;\n",
              "      border-radius: 50%;\n",
              "      cursor: pointer;\n",
              "      display: none;\n",
              "      fill: #1967D2;\n",
              "      height: 32px;\n",
              "      padding: 0 0 0 0;\n",
              "      width: 32px;\n",
              "    }\n",
              "\n",
              "    .colab-df-convert:hover {\n",
              "      background-color: #E2EBFA;\n",
              "      box-shadow: 0px 1px 2px rgba(60, 64, 67, 0.3), 0px 1px 3px 1px rgba(60, 64, 67, 0.15);\n",
              "      fill: #174EA6;\n",
              "    }\n",
              "\n",
              "    [theme=dark] .colab-df-convert {\n",
              "      background-color: #3B4455;\n",
              "      fill: #D2E3FC;\n",
              "    }\n",
              "\n",
              "    [theme=dark] .colab-df-convert:hover {\n",
              "      background-color: #434B5C;\n",
              "      box-shadow: 0px 1px 3px 1px rgba(0, 0, 0, 0.15);\n",
              "      filter: drop-shadow(0px 1px 2px rgba(0, 0, 0, 0.3));\n",
              "      fill: #FFFFFF;\n",
              "    }\n",
              "  </style>\n",
              "\n",
              "      <script>\n",
              "        const buttonEl =\n",
              "          document.querySelector('#df-2ac3f264-e117-4c1e-b8ad-817a0ecb1d9e button.colab-df-convert');\n",
              "        buttonEl.style.display =\n",
              "          google.colab.kernel.accessAllowed ? 'block' : 'none';\n",
              "\n",
              "        async function convertToInteractive(key) {\n",
              "          const element = document.querySelector('#df-2ac3f264-e117-4c1e-b8ad-817a0ecb1d9e');\n",
              "          const dataTable =\n",
              "            await google.colab.kernel.invokeFunction('convertToInteractive',\n",
              "                                                     [key], {});\n",
              "          if (!dataTable) return;\n",
              "\n",
              "          const docLinkHtml = 'Like what you see? Visit the ' +\n",
              "            '<a target=\"_blank\" href=https://colab.research.google.com/notebooks/data_table.ipynb>data table notebook</a>'\n",
              "            + ' to learn more about interactive tables.';\n",
              "          element.innerHTML = '';\n",
              "          dataTable['output_type'] = 'display_data';\n",
              "          await google.colab.output.renderOutput(dataTable, element);\n",
              "          const docLink = document.createElement('div');\n",
              "          docLink.innerHTML = docLinkHtml;\n",
              "          element.appendChild(docLink);\n",
              "        }\n",
              "      </script>\n",
              "    </div>\n",
              "  </div>\n"
            ]
          },
          "metadata": {},
          "execution_count": 47
        }
      ]
    },
    {
      "cell_type": "code",
      "source": [
        "plot_model(model, to_file='model.png', show_shapes=True, show_layer_names=True)\n",
        "img = plt.imread('model.png')\n",
        "plt.imshow(img)\n",
        "plt.show()"
      ],
      "metadata": {
        "colab": {
          "base_uri": "https://localhost:8080/",
          "height": 435
        },
        "id": "2vomAFielbuO",
        "outputId": "fd5ce234-ef8e-4f5c-afbb-186079ee4789"
      },
      "execution_count": 48,
      "outputs": [
        {
          "output_type": "display_data",
          "data": {
            "text/plain": [
              "<Figure size 640x480 with 1 Axes>"
            ],
            "image/png": "[encoded data removed]"
          },
          "metadata": {}
        }
      ]
    },
    {
      "cell_type": "code",
      "source": [
        "import matplotlib.pyplot as plt\n",
        "\n",
        "# Exemplo de uma rede neural simples com duas camadas ocultas\n",
        "def draw_neural_net(ax, left, right, bottom, top, layer_sizes):\n",
        "    n_layers = len(layer_sizes)\n",
        "    v_spacing = (top - bottom) / float(max(layer_sizes))\n",
        "    h_spacing = (right - left) / float(len(layer_sizes) - 1)\n",
        "    # Input layer\n",
        "    for n, layer_size in enumerate(layer_sizes):\n",
        "        layer_top = v_spacing * (layer_size - 1) / 2. + (top + bottom) / 2.\n",
        "        for m in range(layer_size):\n",
        "            circle = plt.Circle((n * h_spacing + left, layer_top - m * v_spacing), v_spacing / 8.,\n",
        "                                color='w', ec='k', zorder=4)\n",
        "            ax.add_artist(circle)\n",
        "            if n > 0:\n",
        "                for o in range(layer_sizes[n - 1]):\n",
        "                    line = plt.Line2D([n * h_spacing + left, (n - 1) * h_spacing + left],\n",
        "                                      [layer_top - m * v_spacing, (v_spacing * (layer_sizes[n - 1] - 1) / 2. +\n",
        "                                                                    (top + bottom) / 2.) - o * v_spacing],\n",
        "                                      c='k')\n",
        "                    ax.add_artist(line)\n",
        "\n",
        "# Definindo o tamanho das camadas da rede neural\n",
        "layer_sizes = [4, 3, 5, 2]\n",
        "\n",
        "# Criando a figura e o eixo\n",
        "fig, ax = plt.subplots(figsize=(8, 6))\n",
        "\n",
        "# Desenhando a rede neural\n",
        "draw_neural_net(ax, 0.1, 0.9, 0.1, 0.9, layer_sizes)\n",
        "\n",
        "# Removendo eixos e mostrando o gráfico\n",
        "ax.axis('off')\n",
        "plt.show()\n"
      ],
      "metadata": {
        "colab": {
          "base_uri": "https://localhost:8080/",
          "height": 499
        },
        "id": "Bl62Rjcnl6eM",
        "outputId": "54599e1b-91ed-40d0-b221-e549812eb20d"
      },
      "execution_count": 51,
      "outputs": [
        {
          "output_type": "display_data",
          "data": {
            "text/plain": [
              "<Figure size 800x600 with 1 Axes>"
            ],
            "image/png": "[encoded data removed]"
          },
          "metadata": {}
        }
      ]
    }
  ]
}